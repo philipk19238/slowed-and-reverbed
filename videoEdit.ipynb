{
 "cells": [
  {
   "cell_type": "code",
   "execution_count": 1,
   "metadata": {},
   "outputs": [],
   "source": [
    "from moviepy.editor import *\n",
    "from moviepy.video.fx.all import fadein, loop\n",
    "from conversions import add_music\n",
    "import random\n",
    "import math\n",
    "\n",
    "class Generator:\n",
    "    def __init__(self, video, music, overlay='assets/grainoverlay'):\n",
    "        self.video = video\n",
    "        self.music = music\n",
    "        self.overlay = overlay\n",
    "        \n",
    "    def randomShuffle(self):\n",
    "        newVideo = self.video.subclip(3, math.floor(self.video.duration) - 10)\n",
    "        currLen = 0\n",
    "        vidClip = []\n",
    "        while currLen < newVideo.duration:\n",
    "            if newVideo.duration - currLen <= 8:\n",
    "                vidClip.append(newVideo.subclip(currLen, currLen + (newVideo.duration - currLen)))\n",
    "                break\n",
    "            else:\n",
    "                randomNum = random.randint(3,4)\n",
    "                tempClip = newVideo.subclip(currLen, currLen + randomNum)\n",
    "                if randomNum % 2 == 0:\n",
    "                    tempClip = fadein(tempClip, 3)\n",
    "                vidClip.append(tempClip)\n",
    "                currLen += randomNum\n",
    "        for index in range(len(vidClip)):\n",
    "            randIndex = random.randint(0, len(vidClip) - 1)\n",
    "            vidClip[index], vidClip[randIndex] = vidClip[randIndex], vidClip[index]\n",
    "        newVideo.close()\n",
    "        return concatenate_videoclips(vidClip).set_duration(self.music.duration)\n",
    "    \n",
    "    def generateOverlay(self):\n",
    "        overlay = self.overlay.subclip().resize(self.video.size).set_opacity(0.50)\n",
    "        \n",
    "        if overlay.duration < self.music.duration:\n",
    "            overlay = loop(overlay, duration=self.music.duration)\n",
    "        else:\n",
    "            overlay = overlay.set_duration(self.music.duration)\n",
    "        return overlay \n",
    "\n",
    "    def create(self):\n",
    "        final = CompositeVideoClip([self.randomShuffle(), self.generateOverlay()])\n",
    "        final.write_videofile('testOutput.mp4', audio=False)\n",
    "        add_music('testOutput.mp4','travis.mp3')"
   ]
  },
  {
   "cell_type": "code",
   "execution_count": 1,
   "metadata": {},
   "outputs": [],
   "source": [
    "from scipy.io.wavfile import read, write\n",
    "from scipy import signal\n",
    "import numpy as np\n",
    "import subprocess\n",
    "from conversions import convert_wav, convert_mp3, find_name\n",
    "\n",
    "class Reverb:\n",
    "    \n",
    "    def __init__(self, musicLocation, filterLocation='impulses/French 18th Century Salon.wav'):\n",
    "        self.music_location = musicLocation\n",
    "        self.filter_location = filterLocation\n",
    "        self.music = None\n",
    "        self.filter = None\n",
    "        \n",
    "    def import_music(self):\n",
    "        audio = read(self.music_location)\n",
    "        audio_arr = np.array(audio[1], dtype='float')\n",
    "        self.music = audio_arr\n",
    "        \n",
    "    def import_filter(self):\n",
    "        impulse = read(self.filter_location)\n",
    "        impulse_arr = np.array(impulse[1], dtype='float')\n",
    "        impulse_arr = np.multiply(impulse_arr, 1.0/np.max(impulse_arr))\n",
    "        self.filter = impulse_arr\n",
    "    \n",
    "    def convert_reverb(self):\n",
    "        self.import_music()\n",
    "        self.import_filter()\n",
    "        filtered = signal.convolve(self.music, self.filter, mode='same', method='fft')\n",
    "        filtered = np.multiply(filtered, 1.0/np.max(np.abs(filtered)))\n",
    "        return filtered\n",
    "    \n",
    "    def export(self):\n",
    "        final = self.convert_reverb()\n",
    "        musicName = find_name(self.music_location)\n",
    "        write(musicName+'.wav', rate=40000, data=final)\n",
    "        convert_mp3(musicName, 'slowed_reverbed')"
   ]
  },
  {
   "cell_type": "code",
   "execution_count": 42,
   "metadata": {},
   "outputs": [],
   "source": [
    "convert_wav('test/edm')"
   ]
  },
  {
   "cell_type": "code",
   "execution_count": 45,
   "metadata": {},
   "outputs": [],
   "source": [
    "Reverb('test/edm.wav').export()"
   ]
  },
  {
   "cell_type": "code",
   "execution_count": 14,
   "metadata": {},
   "outputs": [],
   "source": [
    "convert_wav('test/edm.mp3')"
   ]
  },
  {
   "cell_type": "code",
   "execution_count": 2,
   "metadata": {},
   "outputs": [
    {
     "ename": "NameError",
     "evalue": "name 'convert_wav' is not defined",
     "output_type": "error",
     "traceback": [
      "\u001b[1;31m---------------------------------------------------------------------------\u001b[0m",
      "\u001b[1;31mNameError\u001b[0m                                 Traceback (most recent call last)",
      "\u001b[1;32m<ipython-input-2-4df1e6ffbe47>\u001b[0m in \u001b[0;36m<module>\u001b[1;34m\u001b[0m\n\u001b[1;32m----> 1\u001b[1;33m \u001b[0mconvert_wav\u001b[0m\u001b[1;33m(\u001b[0m\u001b[1;34m'crashing'\u001b[0m\u001b[1;33m)\u001b[0m\u001b[1;33m\u001b[0m\u001b[1;33m\u001b[0m\u001b[0m\n\u001b[0m",
      "\u001b[1;31mNameError\u001b[0m: name 'convert_wav' is not defined"
     ]
    }
   ],
   "source": [
    "convert_wav('crashing')"
   ]
  },
  {
   "cell_type": "code",
   "execution_count": 3,
   "metadata": {},
   "outputs": [],
   "source": [
    "from reverb import Reverb"
   ]
  },
  {
   "cell_type": "code",
   "execution_count": 34,
   "metadata": {},
   "outputs": [],
   "source": [
    "Reverb('johnmayer.wav').export()"
   ]
  },
  {
   "cell_type": "code",
   "execution_count": 4,
   "metadata": {},
   "outputs": [
    {
     "ename": "NameError",
     "evalue": "name 'convert_wav' is not defined",
     "output_type": "error",
     "traceback": [
      "\u001b[1;31m---------------------------------------------------------------------------\u001b[0m",
      "\u001b[1;31mNameError\u001b[0m                                 Traceback (most recent call last)",
      "\u001b[1;32m<ipython-input-4-4df1e6ffbe47>\u001b[0m in \u001b[0;36m<module>\u001b[1;34m\u001b[0m\n\u001b[1;32m----> 1\u001b[1;33m \u001b[0mconvert_wav\u001b[0m\u001b[1;33m(\u001b[0m\u001b[1;34m'crashing'\u001b[0m\u001b[1;33m)\u001b[0m\u001b[1;33m\u001b[0m\u001b[1;33m\u001b[0m\u001b[0m\n\u001b[0m",
      "\u001b[1;31mNameError\u001b[0m: name 'convert_wav' is not defined"
     ]
    }
   ],
   "source": [
    "convert_wav('crashing')"
   ]
  },
  {
   "cell_type": "code",
   "execution_count": 40,
   "metadata": {},
   "outputs": [],
   "source": [
    "Reverb('bazzi.wav').export()"
   ]
  },
  {
   "cell_type": "code",
   "execution_count": 39,
   "metadata": {},
   "outputs": [],
   "source": [
    "convert_wav('bazzi')"
   ]
  },
  {
   "cell_type": "code",
   "execution_count": 1,
   "metadata": {},
   "outputs": [],
   "source": [
    "from reverb import Reverb\n",
    "from conversions import convert_wav"
   ]
  },
  {
   "cell_type": "code",
   "execution_count": 2,
   "metadata": {},
   "outputs": [],
   "source": [
    "convert_wav('latenight')"
   ]
  },
  {
   "cell_type": "code",
   "execution_count": 3,
   "metadata": {},
   "outputs": [],
   "source": [
    "Reverb('latenight.wav').export()"
   ]
  },
  {
   "cell_type": "code",
   "execution_count": null,
   "metadata": {},
   "outputs": [],
   "source": []
  }
 ],
 "metadata": {
  "kernelspec": {
   "display_name": "Python 3",
   "language": "python",
   "name": "python3"
  },
  "language_info": {
   "codemirror_mode": {
    "name": "ipython",
    "version": 3
   },
   "file_extension": ".py",
   "mimetype": "text/x-python",
   "name": "python",
   "nbconvert_exporter": "python",
   "pygments_lexer": "ipython3",
   "version": "3.7.4"
  }
 },
 "nbformat": 4,
 "nbformat_minor": 4
}
