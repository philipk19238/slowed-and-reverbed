{
 "cells": [
  {
   "cell_type": "code",
   "execution_count": 1,
   "metadata": {},
   "outputs": [],
   "source": [
    "import subprocess\n",
    "from PIL import Image\n",
    "from web_scripts import *\n",
    "import math\n",
    "import os"
   ]
  },
  {
   "cell_type": "code",
   "execution_count": 2,
   "metadata": {},
   "outputs": [],
   "source": [
    "def convert_time(time):\n",
    "    time_list = [60*60,60,1]\n",
    "    output_list = []\n",
    "\n",
    "    for i in time_list:\n",
    "        amount, remainder = divmod(time, i)\n",
    "        if len(str(amount)) < 2:\n",
    "            output_list.append(f'0{str(amount)}')\n",
    "        else:\n",
    "            output_list.append(str(amount))\n",
    "        time = remainder\n",
    "    return ':'.join(output_list)"
   ]
  },
  {
   "cell_type": "code",
   "execution_count": 3,
   "metadata": {},
   "outputs": [],
   "source": [
    "def clean_file(string):\n",
    "    keep_list = [str(num) for num in range(0,10)] + ['.','x']\n",
    "    for char in string:\n",
    "        if char not in keep_list:\n",
    "            string = string.replace(char, \"\")\n",
    "    try:\n",
    "        return math.ceil(float(string))\n",
    "    except:\n",
    "        return string"
   ]
  },
  {
   "cell_type": "code",
   "execution_count": 4,
   "metadata": {},
   "outputs": [],
   "source": [
    "def cleanup():\n",
    "    for file in os.listdir():\n",
    "        if file[:4] == 'temp':\n",
    "            os.remove(file)\n",
    "    f = open('list.txt','r')\n",
    "    line = f.readline()[5:-1].rstrip('\\n').replace(\"'\",\"\")\n",
    "    while line:\n",
    "        os.remove(line)\n",
    "        line = f.readline()[5:].rstrip('\\n').replace(\"'\",\"\")\n",
    "    f.close()\n",
    "    os.remove('list.txt')"
   ]
  },
  {
   "cell_type": "code",
   "execution_count": 5,
   "metadata": {},
   "outputs": [],
   "source": [
    "def overlay(video, image):\n",
    "    cmd = f'ffmpeg -loop 1 -i {image} \\\n",
    "       -vf \"movie=overlay.mp4,scale=128:96[inner];[in][inner]overlay=70:70:shortest=1[out]\" \\\n",
    "       -y output.mp4'\n",
    "    "
   ]
  },
  {
   "cell_type": "code",
   "execution_count": 6,
   "metadata": {},
   "outputs": [],
   "source": [
    "class Media:\n",
    "    def __init__(self, media_file):\n",
    "        self.file = media_file\n",
    "        \n",
    "    def __str__(self):\n",
    "        return self.file\n",
    "        \n",
    "    def duration(self):\n",
    "        cmd = f'ffprobe -v error -show_entries format=duration -of default=noprint_wrappers=1:nokey=1 {self.file}'\n",
    "        proc = subprocess.Popen(cmd, shell=True, stdout=subprocess.PIPE)\n",
    "        output = proc.communicate()[0]\n",
    "\n",
    "        return clean_file(str(output))\n",
    "        \n",
    "    def size(self):\n",
    "        cmd = f'ffprobe -v error -select_streams v:0 -show_entries stream=height,width -of csv=s=x:p=0 {self.file}'\n",
    "        proc = subprocess.Popen(cmd, shell=True, stdout=subprocess.PIPE)\n",
    "        output = proc.communicate()[0]\n",
    "\n",
    "        size =  clean_file(str(output))\n",
    "        dimension_list = size.split('x')\n",
    "\n",
    "        return [int(num) for num in dimension_list]\n",
    "    \n",
    "    def set_size(self, size_list):\n",
    "        width = size_list[0]\n",
    "        height = size_list[1]\n",
    "        cmd = f'ffmpeg -i {self.file} -vf scale={width}:{height} {\"temp\"+ self.file}'\n",
    "        subprocess.call(cmd.split(' '))\n",
    "        self.file = f'temp{self.file}'\n",
    "    \n",
    "    def set_duration(self, duration, target_name=None):\n",
    "        time = convert_time(duration)\n",
    "\n",
    "        if target_name:\n",
    "            cmd = f'ffmpeg -y -ss 00:00:00 -i {self.file} -t {time} -map 0 -vcodec copy -acodec copy {target_name}'\n",
    "            os.remove(self.file)\n",
    "            self.file = target_name\n",
    "        else:\n",
    "            cmd = f'ffmpeg -y -ss 00:00:00 -i {self.file} -t {time} -map 0 -vcodec copy -acodec copy {\"temp\" + self.final}'\n",
    "            subprocess.call(cmd.split(' '))\n",
    "            os.remove(self.file)\n",
    "            self.final = 'temp' + self.final\n",
    "        \n",
    "    def loop(self, target_duration):\n",
    "        curr = self.duration()\n",
    "        repeat = math.ceil(target_duration/curr)\n",
    "        f = open('list.txt','w')\n",
    "        for i in range(repeat):\n",
    "            f.write(f\"file '{file_types(self.file)[1]}{i}.{file_types(self.file)[0]}'\\n\")\n",
    "            #make sure to change depending on operating system\n",
    "            cmd = f'copy {self.file} {f\"{file_types(self.file)[1]}{i}.{file_types(self.file)[0]}\"}'\n",
    "            subprocess.call(cmd.split(' '), shell=True)\n",
    "        f.close()\n",
    "        cmd = f'ffmpeg -y -f concat -safe 0 -i list.txt -c copy {\"looped\" + self.file}'\n",
    "        subprocess.call(cmd.split(' '))\n",
    "        self.file = 'looped' + self.file\n",
    "        self.set_duration(target_duration, 'final' + self.file)"
   ]
  },
  {
   "cell_type": "code",
   "execution_count": 10,
   "metadata": {},
   "outputs": [],
   "source": [
    "duration = Media('crashingslowed_reverbed.mp3').duration()\n"
   ]
  },
  {
   "cell_type": "code",
   "execution_count": 17,
   "metadata": {},
   "outputs": [
    {
     "data": {
      "text/plain": [
       "<__main__.Media at 0x17d2fb5df88>"
      ]
     },
     "execution_count": 17,
     "metadata": {},
     "output_type": "execute_result"
    }
   ],
   "source": [
    "overlay = Media('cloudsoverlay.mp4').set_duratio"
   ]
  },
  {
   "cell_type": "code",
   "execution_count": null,
   "metadata": {},
   "outputs": [],
   "source": []
  }
 ],
 "metadata": {
  "kernelspec": {
   "display_name": "Python 3",
   "language": "python",
   "name": "python3"
  },
  "language_info": {
   "codemirror_mode": {
    "name": "ipython",
    "version": 3
   },
   "file_extension": ".py",
   "mimetype": "text/x-python",
   "name": "python",
   "nbconvert_exporter": "python",
   "pygments_lexer": "ipython3",
   "version": "3.7.4"
  }
 },
 "nbformat": 4,
 "nbformat_minor": 4
}
